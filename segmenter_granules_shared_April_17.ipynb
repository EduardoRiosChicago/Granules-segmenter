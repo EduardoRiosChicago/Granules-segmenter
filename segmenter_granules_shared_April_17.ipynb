{
 "cells": [
  {
   "cell_type": "markdown",
   "id": "4932f8ed-5622-42a0-be49-57aa88fdb6e3",
   "metadata": {},
   "source": [
    "# Segmenter_Granules. Core model definition only. April 17, 2024."
   ]
  },
  {
   "cell_type": "code",
   "execution_count": 19,
   "id": "71a413b7",
   "metadata": {},
   "outputs": [],
   "source": [
    "def unet_model(input_size=(1024, 1024, 1), n_filters=4, n_classes=2):\n",
    "    \"\"\"\n",
    "    Returns: \n",
    "        model -- tf.keras.Model\n",
    "    \"\"\"\n",
    "    inputs = Input(input_size)\n",
    "    # Contracting Path (encoding)\n",
    "    cblock0 = conv_block(inputs, 4)\n",
    "    cblock1 = conv_block(cblock0[0], 8)\n",
    "    cblock2 = conv_block(cblock1[0], 16)\n",
    "    cblock3 = conv_block(cblock2[0], 32)\n",
    "    cblock4 = conv_block(cblock3[0], 64)\n",
    "    cblock5 = conv_block(cblock4[0], 128)\n",
    "    cblock6 = conv_block(cblock5[0], 256, 0.3) # Include a dropout_prob of 0.3 for this layer\n",
    "    cblock7 = conv_block(cblock6[0], 512, 0.3, max_pooling=False) \n",
    "    # Expanding Path (decoding)\n",
    "    ublock8 = upsampling_block(cblock7[0], cblock6[1], n_filters * 64)\n",
    "    ublock9 = upsampling_block(ublock8, cblock5[1],  128)\n",
    "    ublock10 = upsampling_block(ublock9, cblock4[1],  64)\n",
    "    ublock11 = upsampling_block(ublock10, cblock3[1],  32)\n",
    "    ublock12 = upsampling_block(ublock11, cblock2[1],  16)\n",
    "    ublock13 = upsampling_block(ublock12, cblock1[1],  8)\n",
    "    ublock14 = upsampling_block(ublock13, cblock0[1],  n_filters)\n",
    "    conv9 = Conv2D(n_filters, 3, activation='relu', padding='same', kernel_initializer='he_normal')(ublock14)\n",
    "    conv10 = Conv2D(n_classes, 1, padding='same')(conv9)\n",
    "    \n",
    "    model = tf.keras.Model(inputs=inputs, outputs=conv10)\n",
    "    return model"
   ]
  },
  {
   "cell_type": "code",
   "execution_count": null,
   "id": "c3d16a62-2cf2-427f-b421-2264771a2e00",
   "metadata": {},
   "outputs": [],
   "source": [
    "\n",
    "\n",
    "\n",
    "\n",
    "\n",
    "\n"
   ]
  }
 ],
 "metadata": {
  "kernelspec": {
   "display_name": "Python 3 (ipykernel)",
   "language": "python",
   "name": "python3"
  },
  "language_info": {
   "codemirror_mode": {
    "name": "ipython",
    "version": 3
   },
   "file_extension": ".py",
   "mimetype": "text/x-python",
   "name": "python",
   "nbconvert_exporter": "python",
   "pygments_lexer": "ipython3",
   "version": "3.11.4"
  }
 },
 "nbformat": 4,
 "nbformat_minor": 5
}
